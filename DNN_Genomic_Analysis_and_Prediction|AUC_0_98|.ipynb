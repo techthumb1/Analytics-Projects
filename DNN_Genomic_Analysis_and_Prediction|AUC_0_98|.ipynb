{
  "metadata": {
    "kernelspec": {
      "language": "python",
      "display_name": "Python 3",
      "name": "python3"
    },
    "language_info": {
      "name": "python",
      "version": "3.10.12",
      "mimetype": "text/x-python",
      "codemirror_mode": {
        "name": "ipython",
        "version": 3
      },
      "pygments_lexer": "ipython3",
      "nbconvert_exporter": "python",
      "file_extension": ".py"
    },
    "kaggle": {
      "accelerator": "gpu",
      "dataSources": [
        {
          "sourceId": 11047619,
          "sourceType": "datasetVersion",
          "datasetId": 6882057
        }
      ],
      "dockerImageVersionId": 30919,
      "isInternetEnabled": true,
      "language": "python",
      "sourceType": "notebook",
      "isGpuEnabled": true
    },
    "colab": {
      "name": "DNN Genomic Analysis and Prediction|AUC 0.98|",
      "provenance": [],
      "include_colab_link": true
    }
  },
  "nbformat_minor": 0,
  "nbformat": 4,
  "cells": [
    {
      "cell_type": "markdown",
      "metadata": {
        "id": "view-in-github",
        "colab_type": "text"
      },
      "source": [
        "<a href=\"https://colab.research.google.com/github/techthumb1/Analytics-Projects/blob/main/DNN_Genomic_Analysis_and_Prediction%7CAUC_0_98%7C.ipynb\" target=\"_parent\"><img src=\"https://colab.research.google.com/assets/colab-badge.svg\" alt=\"Open In Colab\"/></a>"
      ]
    },
    {
      "source": [
        "# IMPORTANT: RUN THIS CELL IN ORDER TO IMPORT YOUR KAGGLE DATA SOURCES,\n",
        "# THEN FEEL FREE TO DELETE THIS CELL.\n",
        "# NOTE: THIS NOTEBOOK ENVIRONMENT DIFFERS FROM KAGGLE'S PYTHON\n",
        "# ENVIRONMENT SO THERE MAY BE MISSING LIBRARIES USED BY YOUR\n",
        "# NOTEBOOK.\n",
        "import kagglehub\n",
        "brsahan_genomic_data_for_cancer_path = kagglehub.dataset_download('brsahan/genomic-data-for-cancer')\n",
        "\n",
        "print('Data source import complete.')\n"
      ],
      "metadata": {
        "id": "Is43GW6oFtcq"
      },
      "cell_type": "code",
      "outputs": [],
      "execution_count": null
    },
    {
      "cell_type": "markdown",
      "source": [
        "# 🧬Genomic Data Analysis and Prediction: Towards Personalized Medicine\n",
        "\n",
        "---\n",
        "## Introduction\n",
        "\n",
        "The speed in development of genomic technologies has opened doors to opportunities in understanding the genetic foundations of human health and disease.\n",
        "\n",
        "Precision medicine, also known as personalized medicine, represents an approach aiming to customize medical treatment based on individual genetic profiles, environment, and lifestyle. By analyzing large genomic datasets, healthcare providers can predict disease susceptibility, tailor personalized treatment plans for patients, which ultimately will improve patient outcomes.\n",
        "\n",
        "At this preliminary stage, it's essential to recognize what genomic data typically involves in medical settings:\n",
        "\n",
        "- **SNPs (Single Nucleotide Polymorphisms):** Variations at single DNA base pairs, significant in predicting disease susceptibility, drug metabolism, and therapeutic responses.\n",
        "\n",
        "- **Gene Expression Levels:** Indicators of how actively genes produce RNA and proteins, crucial for understanding diseases such as cancer or metabolic disorders.\n",
        "\n",
        "- **Genotype/Phenotype Information:** Genotype data represents genetic makeup, while phenotypes represent observable traits or clinical outcomes. Together, these facilitate personalized medicine, disease prediction, and treatment optimization."
      ],
      "metadata": {
        "_uuid": "c1e137ef-a748-40c0-a449-d7796cd2d41a",
        "_cell_guid": "abf157b1-adcf-4af9-b37c-034ecc3b253e",
        "trusted": true,
        "collapsed": false,
        "jupyter": {
          "outputs_hidden": false
        },
        "id": "0XZxVmmkFtcv"
      }
    },
    {
      "cell_type": "code",
      "source": [
        "# Install Dependencies\n",
        "!pip install -q altair shap causal-learn graphviz pydot plotnine"
      ],
      "metadata": {
        "_uuid": "e11c50f1-d788-4cea-9ec0-15227ee818ae",
        "_cell_guid": "3db78b27-d3f9-4d48-a674-eb0b5f920ffa",
        "trusted": true,
        "execution": {
          "iopub.status.busy": "2025-03-31T02:03:51.146033Z",
          "iopub.execute_input": "2025-03-31T02:03:51.146355Z",
          "iopub.status.idle": "2025-03-31T02:04:11.343997Z",
          "shell.execute_reply.started": "2025-03-31T02:03:51.146321Z",
          "shell.execute_reply": "2025-03-31T02:04:11.34289Z"
        },
        "jupyter": {
          "outputs_hidden": false
        },
        "id": "oLo7Oq8xFtc0"
      },
      "outputs": [],
      "execution_count": null
    },
    {
      "cell_type": "markdown",
      "source": [
        "## Project Overview\n",
        "\n",
        "Throughout this notebook we will:\n",
        "\n",
        "- **Explore and visualize genomic datasets:** Investigate genomic variability, expression patterns, and their associations with health and disease.\n",
        "\n",
        "- **Apply preprocessing and feature engineering techniques:** Prepare data through imputation, normalization, feature extraction, and biological enrichment analyses.\n",
        "\n",
        "- **Build robust predictive models:** Utilize SOTA methods including deep neural networks (DNNs), transformer-based architectures, gradient boosting frameworks, and graph neural networks to classify diseases and predict health-related outcomes.\n",
        "\n",
        "- **Employ advanced semantic and causal analyses:** Implement structural causal models, Bayesian networks, and counterfactual reasoning to derive semantic cause-and-effect insights.\n",
        "\n",
        "- **Integrate explainable artificial intelligence (XAI):** Ensure models remain transparent, interpretable, and clinically meaningful by employing SHAP, and Integrated Gradients.\n",
        "\n",
        "- **Demonstrate clear medical and biological interpretability:** Combine data science with clinical explanations to help users understand the relevance of the predictions.\n",
        "\n",
        "- **Lay foundations for personalized medicine:** Obtain insights that will aid in delivering individualized treatment recommendations, disease prevention strategies, and health optimization plans."
      ],
      "metadata": {
        "_uuid": "0a892345-b043-4511-8184-35f9991579d2",
        "_cell_guid": "2f00ab85-d6e9-4911-8ccf-4eedca6b2d45",
        "trusted": true,
        "collapsed": false,
        "jupyter": {
          "outputs_hidden": false
        },
        "id": "il8tIrESFtc0"
      }
    },
    {
      "cell_type": "markdown",
      "source": [
        "## Install Libraries"
      ],
      "metadata": {
        "_uuid": "5df85dcd-f180-4d9b-a8e0-684f8232b385",
        "_cell_guid": "0e18656b-0a31-4e6e-af30-67f740f060d7",
        "trusted": true,
        "collapsed": false,
        "jupyter": {
          "outputs_hidden": false
        },
        "id": "F7TkFUUyFtc1"
      }
    },
    {
      "cell_type": "code",
      "source": [
        "import pandas as pd\n",
        "import numpy as np\n",
        "import matplotlib.pyplot as plt\n",
        "import seaborn as sns\n",
        "import json\n",
        "\n",
        "from sklearn.preprocessing import StandardScaler\n",
        "from sklearn.linear_model import LogisticRegression\n",
        "from sklearn.ensemble import RandomForestClassifier\n",
        "from sklearn.metrics import accuracy_score, precision_score, recall_score, f1_score, roc_auc_score\n",
        "from sklearn.metrics import classification_report, confusion_matrix, roc_auc_score, roc_curve, auc\n",
        "from sklearn.model_selection import train_test_split\n",
        "\n",
        "import tensorflow as tf\n",
        "from tensorflow.keras.models import Sequential\n",
        "from tensorflow.keras.callbacks import EarlyStopping\n",
        "from tensorflow.keras.layers import Input, Dense, Dropout\n",
        "\n",
        "\n",
        "from plotnine.data import mpg\n",
        "from plotnine import ggplot, aes, geom_histogram, geom_density, theme_bw, labs\n",
        "from IPython.display import display\n",
        "\n",
        "import networkx as nx\n",
        "\n",
        "import altair as alt\n",
        "\n",
        "from causallearn.search.ConstraintBased.PC import pc\n",
        "from causallearn.utils.cit import fisherz\n",
        "from causallearn.graph.Edge import Endpoint\n",
        "\n",
        "import shap\n",
        "from shap import Explanation, KernelExplainer, summary_plot, force_plot"
      ],
      "metadata": {
        "_uuid": "eb6ee452-fff9-4bc0-9036-6b867f3c5f8e",
        "_cell_guid": "40764ec4-7c27-43a2-8f42-f6d0f5bb205a",
        "trusted": true,
        "execution": {
          "iopub.status.busy": "2025-03-31T02:04:11.345075Z",
          "iopub.execute_input": "2025-03-31T02:04:11.34535Z",
          "iopub.status.idle": "2025-03-31T02:04:33.946072Z",
          "shell.execute_reply.started": "2025-03-31T02:04:11.345327Z",
          "shell.execute_reply": "2025-03-31T02:04:33.945328Z"
        },
        "jupyter": {
          "outputs_hidden": false
        },
        "id": "LxuBVHWuFtc2"
      },
      "outputs": [],
      "execution_count": null
    },
    {
      "cell_type": "code",
      "source": [
        "# View first 5 rows\n",
        "df = pd.read_csv('/kaggle/input/genomic-data-for-cancer/gene_expression.csv')"
      ],
      "metadata": {
        "_uuid": "8fad7c60-8b58-4fb7-a849-f8f0b613863a",
        "_cell_guid": "6d4f2f5a-cbc1-4b04-87a3-526cea7df386",
        "trusted": true,
        "execution": {
          "iopub.status.busy": "2025-03-31T02:04:33.946882Z",
          "iopub.execute_input": "2025-03-31T02:04:33.947538Z",
          "iopub.status.idle": "2025-03-31T02:04:33.972684Z",
          "shell.execute_reply.started": "2025-03-31T02:04:33.947512Z",
          "shell.execute_reply": "2025-03-31T02:04:33.97155Z"
        },
        "jupyter": {
          "outputs_hidden": false
        },
        "id": "jTPdGueEFtc2"
      },
      "outputs": [],
      "execution_count": null
    },
    {
      "cell_type": "code",
      "source": [
        "df.head()"
      ],
      "metadata": {
        "_uuid": "289b268e-d836-4baa-9fc1-60fbb9197604",
        "_cell_guid": "0767aadd-dd2f-4a58-bf2c-234ef1636b21",
        "trusted": true,
        "execution": {
          "iopub.status.busy": "2025-03-31T02:04:33.974803Z",
          "iopub.execute_input": "2025-03-31T02:04:33.975093Z",
          "iopub.status.idle": "2025-03-31T02:04:33.999343Z",
          "shell.execute_reply.started": "2025-03-31T02:04:33.975068Z",
          "shell.execute_reply": "2025-03-31T02:04:33.998525Z"
        },
        "jupyter": {
          "outputs_hidden": false
        },
        "id": "jGna7kKlFtc2"
      },
      "outputs": [],
      "execution_count": null
    },
    {
      "cell_type": "code",
      "source": [
        "# Shape and info\n",
        "df.info()"
      ],
      "metadata": {
        "_uuid": "5365e4ca-7570-42fd-a3f5-060a008824f0",
        "_cell_guid": "3f30a8cc-fb7c-4ba0-92c2-48918dfdc3b0",
        "trusted": true,
        "execution": {
          "iopub.status.busy": "2025-03-31T02:04:34.000862Z",
          "iopub.execute_input": "2025-03-31T02:04:34.001126Z",
          "iopub.status.idle": "2025-03-31T02:04:34.018471Z",
          "shell.execute_reply.started": "2025-03-31T02:04:34.001105Z",
          "shell.execute_reply": "2025-03-31T02:04:34.017695Z"
        },
        "jupyter": {
          "outputs_hidden": false
        },
        "id": "sseLutgHFtc3"
      },
      "outputs": [],
      "execution_count": null
    },
    {
      "cell_type": "code",
      "source": [
        "# Descriptive Statistics\n",
        "df.describe()"
      ],
      "metadata": {
        "_uuid": "7442437b-f64a-4ed0-b5c0-fdac279035ee",
        "_cell_guid": "4650e597-e869-4f29-a0e2-08c44d6ec76d",
        "trusted": true,
        "execution": {
          "iopub.status.busy": "2025-03-31T02:04:34.019384Z",
          "iopub.execute_input": "2025-03-31T02:04:34.019709Z",
          "iopub.status.idle": "2025-03-31T02:04:34.038809Z",
          "shell.execute_reply.started": "2025-03-31T02:04:34.019676Z",
          "shell.execute_reply": "2025-03-31T02:04:34.037702Z"
        },
        "jupyter": {
          "outputs_hidden": false
        },
        "id": "gv2or3OKFtc3"
      },
      "outputs": [],
      "execution_count": null
    },
    {
      "cell_type": "code",
      "source": [
        "# Class Distribution\n",
        "df['Cancer Present'].value_counts(normalize=True)"
      ],
      "metadata": {
        "_uuid": "6244ddd0-72cc-4629-a3b1-3a395885cd71",
        "_cell_guid": "5b23f8ce-b57c-4c31-994f-bfc9df0cee74",
        "trusted": true,
        "execution": {
          "iopub.status.busy": "2025-03-31T02:04:34.039758Z",
          "iopub.execute_input": "2025-03-31T02:04:34.040046Z",
          "iopub.status.idle": "2025-03-31T02:04:34.048542Z",
          "shell.execute_reply.started": "2025-03-31T02:04:34.040017Z",
          "shell.execute_reply": "2025-03-31T02:04:34.047479Z"
        },
        "jupyter": {
          "outputs_hidden": false
        },
        "id": "2G631chYFtc4"
      },
      "outputs": [],
      "execution_count": null
    },
    {
      "cell_type": "markdown",
      "source": [
        "In genomic datasets, distributions and variability often provide important clinical insights:\n",
        "\n",
        "- **High variability** in gene expression levels could imply heterogeneous responses among patients, making personalized medicine necessary.\n",
        "\n",
        "- **Class imbalance** may indicate challenges in predictive modeling, requiring specialized methods.\n",
        "\n",
        "Let's take a look the distributions using a histogram and density plot."
      ],
      "metadata": {
        "_uuid": "3f954d8d-8a0b-4496-8efd-9ea901b93dac",
        "_cell_guid": "405cab7b-3905-4663-89d4-d3313410ac55",
        "trusted": true,
        "collapsed": false,
        "jupyter": {
          "outputs_hidden": false
        },
        "id": "snkyBtv8Ftc4"
      }
    },
    {
      "cell_type": "code",
      "source": [
        "# Histogram and density plot for Gene One\n",
        "plot_gene_one = (\n",
        "    ggplot(df, aes(x='Gene One')) +\n",
        "    geom_histogram(aes(y='..density..'), fill='skyblue', bins=30, alpha=0.7) +\n",
        "    geom_density(color='darkblue', size=1.0) +\n",
        "    labs(title='Distribution of Gene One Expression', x='Gene One Expression Level', y='Density') +\n",
        "    theme_bw()\n",
        ")"
      ],
      "metadata": {
        "_uuid": "ee13f056-e25f-47ef-bb4d-d891c036ba61",
        "_cell_guid": "1211ef90-037b-4a33-80c9-0ebea280e6df",
        "trusted": true,
        "execution": {
          "iopub.status.busy": "2025-03-31T02:04:34.049545Z",
          "iopub.execute_input": "2025-03-31T02:04:34.049911Z",
          "iopub.status.idle": "2025-03-31T02:04:34.072366Z",
          "shell.execute_reply.started": "2025-03-31T02:04:34.049878Z",
          "shell.execute_reply": "2025-03-31T02:04:34.071546Z"
        },
        "jupyter": {
          "outputs_hidden": false
        },
        "id": "deyq00EwFtc4"
      },
      "outputs": [],
      "execution_count": null
    },
    {
      "cell_type": "code",
      "source": [
        "# Histogram and density plot for Gene Two\n",
        "plot_gene_two = (\n",
        "    ggplot(df, aes(x='Gene Two')) +\n",
        "    geom_histogram(aes(y='..density..'), fill='lightgreen', bins=30, alpha=0.7) +\n",
        "    geom_density(color='darkgreen', size=1.0) +\n",
        "    labs(title='Distribution of Gene Two Expression', x='Gene Two Expression Level', y='Density') +\n",
        "    theme_bw()\n",
        ")\n",
        "\n",
        "# Display plots\n",
        "display(plot_gene_one, plot_gene_two)"
      ],
      "metadata": {
        "_uuid": "22decc2d-79d9-4a66-a89f-3326abf2da4a",
        "_cell_guid": "6d933210-bc9d-411b-8a65-105f45e02a84",
        "trusted": true,
        "execution": {
          "iopub.status.busy": "2025-03-31T02:04:34.073181Z",
          "iopub.execute_input": "2025-03-31T02:04:34.073465Z",
          "iopub.status.idle": "2025-03-31T02:04:37.015917Z",
          "shell.execute_reply.started": "2025-03-31T02:04:34.073436Z",
          "shell.execute_reply": "2025-03-31T02:04:37.014912Z"
        },
        "jupyter": {
          "outputs_hidden": false
        },
        "id": "yhzO7tBiFtc5"
      },
      "outputs": [],
      "execution_count": null
    },
    {
      "cell_type": "markdown",
      "source": [
        "**Gene One** has a fairly consistent activation pattern across most individuals. This implies that it might be *constitutively expressed*.\n",
        "\n",
        "**Gene Two** is expressed across a wider range, suggesting that it may vary significantly between healthy and disease states."
      ],
      "metadata": {
        "_uuid": "40ff645b-3c64-4711-a3c8-6a6d6e3138fc",
        "_cell_guid": "1edc728f-7aac-4740-b239-cf9282891b7a",
        "trusted": true,
        "collapsed": false,
        "jupyter": {
          "outputs_hidden": false
        },
        "id": "qxRMxtWcFtc5"
      }
    },
    {
      "cell_type": "code",
      "source": [
        "# Group by Cancer Present and calculate mean gene expression\n",
        "df_grouped = df.groupby('Cancer Present')[['Gene One', 'Gene Two']].mean().reset_index()\n",
        "\n",
        "# Melt the DataFrame to long format\n",
        "df_bar = df_grouped.melt(id_vars='Cancer Present',\n",
        "                         var_name='Gene',\n",
        "                         value_name='Expression')\n",
        "\n",
        "# Rename for Altair clarity\n",
        "df_bar.rename(columns={'Cancer Present': 'Cancer'}, inplace=True)\n",
        "\n",
        "# Plot\n",
        "bar_chart = alt.Chart(df_bar).mark_bar().encode(\n",
        "    x=alt.X('Gene:N', title='Gene'),\n",
        "    y=alt.Y('Expression:Q', title='Mean Expression'),\n",
        "    color=alt.Color('Cancer:N', scale=alt.Scale(range=['#1f77b4', '#d62728'])),\n",
        "    column=alt.Column('Cancer:N', title='Cancer Status'),\n",
        "    tooltip=['Gene:N', 'Expression:Q', 'Cancer:N']\n",
        ").properties(\n",
        "    title=\"Mean Gene Expression by Cancer Status\",\n",
        "    width=150,\n",
        "    height=300\n",
        ")\n",
        "\n",
        "bar_chart"
      ],
      "metadata": {
        "_uuid": "efa1fd13-5a3b-40af-aa22-631293326729",
        "_cell_guid": "b03bb771-c704-4f02-9e6f-3d68d500dc3c",
        "trusted": true,
        "execution": {
          "iopub.status.busy": "2025-03-31T02:04:37.016842Z",
          "iopub.execute_input": "2025-03-31T02:04:37.017565Z",
          "iopub.status.idle": "2025-03-31T02:04:37.083647Z",
          "shell.execute_reply.started": "2025-03-31T02:04:37.017536Z",
          "shell.execute_reply": "2025-03-31T02:04:37.082692Z"
        },
        "jupyter": {
          "outputs_hidden": false
        },
        "id": "BthhWcmoFtc5"
      },
      "outputs": [],
      "execution_count": null
    },
    {
      "cell_type": "markdown",
      "source": [
        "Comparing the average expression levels of each gene in people with and without cancer. Gene One is more active in people with cancer, while Gene Two is more active in those without it."
      ],
      "metadata": {
        "_uuid": "44d9279a-767c-4918-9ef2-e3a2c98031ab",
        "_cell_guid": "9d9f13d2-53ff-4a70-895a-95120b03a5f5",
        "trusted": true,
        "collapsed": false,
        "jupyter": {
          "outputs_hidden": false
        },
        "id": "f6NJ45c7Ftc6"
      }
    },
    {
      "cell_type": "code",
      "source": [
        " scatter = alt.Chart(df).mark_circle(size=60).encode(\n",
        "    x=alt.X('Gene One', title='Gene One Expression'),\n",
        "    y=alt.Y('Gene Two', title='Gene Two Expression'),\n",
        "    color=alt.Color('Cancer Present:N', scale=alt.Scale(range=['#1f77b4', '#d62728']), legend=alt.Legend(title='Cancer')),\n",
        "    tooltip=['Gene One', 'Gene Two', 'Cancer Present']\n",
        ").properties(\n",
        "    width=500,\n",
        "    height=400,\n",
        "    title='Scatter Plot of Gene One vs Gene Two by Cancer Status'\n",
        ").interactive()\n",
        "\n",
        "scatter"
      ],
      "metadata": {
        "_uuid": "4d209f91-b6ee-4f00-b2db-a2e2de0b568a",
        "_cell_guid": "57d9aa6e-5084-4005-800f-e87210fdb85c",
        "trusted": true,
        "execution": {
          "iopub.status.busy": "2025-03-31T02:04:37.084782Z",
          "iopub.execute_input": "2025-03-31T02:04:37.085165Z",
          "iopub.status.idle": "2025-03-31T02:04:37.159118Z",
          "shell.execute_reply.started": "2025-03-31T02:04:37.085138Z",
          "shell.execute_reply": "2025-03-31T02:04:37.158015Z"
        },
        "jupyter": {
          "outputs_hidden": false
        },
        "id": "AW404GQXFtc6"
      },
      "outputs": [],
      "execution_count": null
    },
    {
      "cell_type": "markdown",
      "source": [
        "## Feature Scaling\n",
        "\n",
        "Gene expression data often spans variable ranges. Standardizing the features allows models like logistic regression or neural networks to converge more reliably."
      ],
      "metadata": {
        "_uuid": "22c0023c-aa14-4f88-81d0-92f7b4bdd6e1",
        "_cell_guid": "af093eae-7a89-4a3d-b6a5-c29095188320",
        "trusted": true,
        "collapsed": false,
        "jupyter": {
          "outputs_hidden": false
        },
        "id": "MloWh7igFtc6"
      }
    },
    {
      "cell_type": "code",
      "source": [
        "# Feature Scaler\n",
        "scaler = StandardScaler()\n",
        "X = scaler.fit_transform(df[['Gene One', 'Gene Two']])\n",
        "y = df['Cancer Present']"
      ],
      "metadata": {
        "_uuid": "7eccae11-f132-43e2-bdda-6a21bac4a809",
        "_cell_guid": "5c9e08b3-d82f-473e-8d61-4661c0cf998b",
        "trusted": true,
        "execution": {
          "iopub.status.busy": "2025-03-31T02:04:37.160019Z",
          "iopub.execute_input": "2025-03-31T02:04:37.160286Z",
          "iopub.status.idle": "2025-03-31T02:04:37.169534Z",
          "shell.execute_reply.started": "2025-03-31T02:04:37.160264Z",
          "shell.execute_reply": "2025-03-31T02:04:37.168193Z"
        },
        "jupyter": {
          "outputs_hidden": false
        },
        "id": "x9Z4GSCrFtc7"
      },
      "outputs": [],
      "execution_count": null
    },
    {
      "cell_type": "markdown",
      "source": [
        "## Define Modeling Target\n",
        "The goal is to predict cancer presence using gene expression data. This is framed as a binary classification problem."
      ],
      "metadata": {
        "_uuid": "46bc54af-88cb-4b00-868d-0d82df08f13e",
        "_cell_guid": "eac0bdff-7d97-467f-8982-56a1a305dcca",
        "trusted": true,
        "collapsed": false,
        "jupyter": {
          "outputs_hidden": false
        },
        "id": "ql3JiSF7Ftc7"
      }
    },
    {
      "cell_type": "code",
      "source": [
        "# Train, Test, Split\n",
        "X_train, X_test, y_train, y_test = train_test_split(\n",
        "    X, y, test_size=0.25, stratify=y, random_state=42)"
      ],
      "metadata": {
        "_uuid": "d0c62126-62c5-4e8f-9650-4ae881042e3b",
        "_cell_guid": "ad33c17e-6414-4c8d-9b72-3479d826196d",
        "trusted": true,
        "execution": {
          "iopub.status.busy": "2025-03-31T02:04:37.17384Z",
          "iopub.execute_input": "2025-03-31T02:04:37.174207Z",
          "iopub.status.idle": "2025-03-31T02:04:37.189619Z",
          "shell.execute_reply.started": "2025-03-31T02:04:37.174183Z",
          "shell.execute_reply": "2025-03-31T02:04:37.188701Z"
        },
        "jupyter": {
          "outputs_hidden": false
        },
        "id": "dU62GB6KFtc7"
      },
      "outputs": [],
      "execution_count": null
    },
    {
      "cell_type": "markdown",
      "source": [
        "## Model Development and Evaluation"
      ],
      "metadata": {
        "_uuid": "2c55f7cd-890e-4c8a-9d52-7e3316867adf",
        "_cell_guid": "6667aaef-9f12-4047-bc7b-aa2d5a3ffcfc",
        "trusted": true,
        "collapsed": false,
        "jupyter": {
          "outputs_hidden": false
        },
        "id": "uqnfghZgFtc8"
      }
    },
    {
      "cell_type": "code",
      "source": [
        "# Initialize and train Logistic Regression model\n",
        "log_reg = LogisticRegression()\n",
        "log_reg.fit(X_train, y_train)\n",
        "\n",
        "# Predict on test set\n",
        "y_pred = log_reg.predict(X_test)\n",
        "y_prob = log_reg.predict_proba(X_test)[:, 1]\n",
        "\n",
        "# Evaluate model performance\n",
        "print(\"Confusion Matrix:\\n\", confusion_matrix(y_test, y_pred))\n",
        "print(\"\\nClassification Report:\\n\", classification_report(y_test, y_pred))\n",
        "print(\"\\nROC AUC Score:\", roc_auc_score(y_test, y_prob))"
      ],
      "metadata": {
        "_uuid": "351a0855-92b8-4613-89f8-97d1a0f2c121",
        "_cell_guid": "fc4b7dcc-c676-4cf1-a30d-7a43b67be41c",
        "trusted": true,
        "execution": {
          "iopub.status.busy": "2025-03-31T02:04:37.191406Z",
          "iopub.execute_input": "2025-03-31T02:04:37.191794Z",
          "iopub.status.idle": "2025-03-31T02:04:37.225092Z",
          "shell.execute_reply.started": "2025-03-31T02:04:37.191767Z",
          "shell.execute_reply": "2025-03-31T02:04:37.224091Z"
        },
        "jupyter": {
          "outputs_hidden": false
        },
        "id": "tHpCsU7LFtc8"
      },
      "outputs": [],
      "execution_count": null
    },
    {
      "cell_type": "markdown",
      "source": [
        "The model achieves a strong ROC AUC score, but still shows room for improvement due to misclassified cases."
      ],
      "metadata": {
        "_uuid": "5314f022-48b3-4912-aae1-6f1d619a2e61",
        "_cell_guid": "9b478e9c-5826-4840-9dcf-ab051246ab43",
        "trusted": true,
        "collapsed": false,
        "jupyter": {
          "outputs_hidden": false
        },
        "id": "fNNH9sEiFtc8"
      }
    },
    {
      "cell_type": "markdown",
      "source": [
        "## Random Forest Classifier: Non-Linear Baseline\n",
        "Random forests are well-suited for datasets with potential non-linear relationships and interactions between genes."
      ],
      "metadata": {
        "_uuid": "1dcbc27a-fe4b-473d-9980-8183ce73af91",
        "_cell_guid": "5963a076-1fef-4d0c-8a63-3f3dd1b41552",
        "trusted": true,
        "collapsed": false,
        "jupyter": {
          "outputs_hidden": false
        },
        "id": "eEEMrLdKFtc8"
      }
    },
    {
      "cell_type": "code",
      "source": [
        "# Train random forest\n",
        "rf = RandomForestClassifier(n_estimators=100, random_state=42)\n",
        "rf.fit(X_train, y_train)\n",
        "\n",
        "# Predictions\n",
        "y_pred_rf = rf.predict(X_test)\n",
        "y_prob_rf = rf.predict_proba(X_test)[:, 1]\n",
        "\n",
        "# Evaluation\n",
        "print(\"Confusion Matrix:\\n\", confusion_matrix(y_test, y_pred_rf))\n",
        "print(\"\\nClassification Report:\\n\", classification_report(y_test, y_pred_rf))\n",
        "print(\"\\nROC AUC Score:\", roc_auc_score(y_test, y_prob_rf))"
      ],
      "metadata": {
        "_uuid": "5526f06e-18e7-492d-bfad-492785a2aa19",
        "_cell_guid": "cccd6364-08ca-442d-a61a-6a1253ec9512",
        "trusted": true,
        "execution": {
          "iopub.status.busy": "2025-03-31T02:04:37.226041Z",
          "iopub.execute_input": "2025-03-31T02:04:37.226289Z",
          "iopub.status.idle": "2025-03-31T02:04:37.505892Z",
          "shell.execute_reply.started": "2025-03-31T02:04:37.226268Z",
          "shell.execute_reply": "2025-03-31T02:04:37.504946Z"
        },
        "jupyter": {
          "outputs_hidden": false
        },
        "id": "s82fgDq6Ftc9"
      },
      "outputs": [],
      "execution_count": null
    },
    {
      "cell_type": "markdown",
      "source": [
        "Random forests are also useful for identifying feature importance, which is critical in genomic interpretation."
      ],
      "metadata": {
        "_uuid": "f8364460-c3d6-4a42-8e41-8a91d976bfa0",
        "_cell_guid": "8df1587d-937b-4d1d-97db-e94dd2976b8c",
        "trusted": true,
        "collapsed": false,
        "jupyter": {
          "outputs_hidden": false
        },
        "id": "wWQAHP3eFtc9"
      }
    },
    {
      "cell_type": "markdown",
      "source": [
        "## Feature Importance from Random Forest"
      ],
      "metadata": {
        "_uuid": "8fce681a-8548-4820-9f84-e989f5791137",
        "_cell_guid": "1a2ddb01-1552-4760-b767-57c89dfb34b8",
        "trusted": true,
        "collapsed": false,
        "jupyter": {
          "outputs_hidden": false
        },
        "id": "UUPzDWTcFtc9"
      }
    },
    {
      "cell_type": "code",
      "source": [
        "# Feature importance as a DataFrame\n",
        "feat_df = pd.DataFrame({\n",
        "    'Feature': ['Gene One', 'Gene Two'],\n",
        "    'Importance': rf.feature_importances_\n",
        "})\n",
        "\n",
        "# Plotting\n",
        "sns.barplot(data=feat_df, x='Importance', y='Feature', palette='Blues_d')\n",
        "plt.title('Random Forest Feature Importance')\n",
        "plt.xlabel('Importance')\n",
        "plt.ylabel('Feature')\n",
        "plt.show()"
      ],
      "metadata": {
        "_uuid": "0ff9d340-4c8c-4baa-b62c-64c113b99008",
        "_cell_guid": "3e869b3b-ba04-451b-a409-6c24501fb794",
        "trusted": true,
        "execution": {
          "iopub.status.busy": "2025-03-31T02:04:37.506823Z",
          "iopub.execute_input": "2025-03-31T02:04:37.507081Z",
          "iopub.status.idle": "2025-03-31T02:04:37.662862Z",
          "shell.execute_reply.started": "2025-03-31T02:04:37.507057Z",
          "shell.execute_reply": "2025-03-31T02:04:37.661891Z"
        },
        "jupyter": {
          "outputs_hidden": false
        },
        "id": "EOvjH42gFtc9"
      },
      "outputs": [],
      "execution_count": null
    },
    {
      "cell_type": "markdown",
      "source": [
        "## Deep Learning for Genomic Prediction\n",
        "Deep learning models, are best for capturing complex non-linear patterns, improving predictive power."
      ],
      "metadata": {
        "_uuid": "8765d5d9-da30-4a8e-874c-34dd0bb8d6ff",
        "_cell_guid": "33980e75-e3bf-4eb4-adcc-0a39d85a5dcc",
        "trusted": true,
        "collapsed": false,
        "jupyter": {
          "outputs_hidden": false
        },
        "id": "acmgrW_TFtc-"
      }
    },
    {
      "cell_type": "code",
      "source": [
        "# Set random seed\n",
        "tf.random.set_seed(42)\n",
        "\n",
        "# Define model\n",
        "model = Sequential([\n",
        "    Input(shape=(X_train.shape[1],)),\n",
        "    Dense(16, activation='relu'),\n",
        "    Dropout(0.3),\n",
        "    Dense(8, activation='relu'),\n",
        "    Dropout(0.3),\n",
        "    Dense(1, activation='sigmoid')\n",
        "])\n",
        "\n",
        "model.compile(optimizer='adam', loss='binary_crossentropy', metrics=['accuracy'])\n",
        "model.summary()"
      ],
      "metadata": {
        "_uuid": "52dffb1f-62a6-4f8c-80a3-aadd3da903e3",
        "_cell_guid": "d1547027-ccce-42f4-8c27-8803c7b33603",
        "trusted": true,
        "execution": {
          "iopub.status.busy": "2025-03-31T02:04:37.663799Z",
          "iopub.execute_input": "2025-03-31T02:04:37.664115Z",
          "iopub.status.idle": "2025-03-31T02:04:39.594064Z",
          "shell.execute_reply.started": "2025-03-31T02:04:37.66409Z",
          "shell.execute_reply": "2025-03-31T02:04:39.59339Z"
        },
        "jupyter": {
          "outputs_hidden": false
        },
        "id": "rMxVCDBNFtc-"
      },
      "outputs": [],
      "execution_count": null
    },
    {
      "cell_type": "code",
      "source": [
        "# Early stopping\n",
        "early_stop = EarlyStopping(monitor='val_loss', patience=10, restore_best_weights=True)\n",
        "\n",
        "# Train the model\n",
        "history = model.fit(\n",
        "    X_train, y_train,\n",
        "    validation_split=0.2,\n",
        "    epochs=100,\n",
        "    batch_size=32,\n",
        "    callbacks=[early_stop],\n",
        "    verbose=1\n",
        ")"
      ],
      "metadata": {
        "_uuid": "93dafef8-6c24-4405-b6e0-8a0578ecde10",
        "_cell_guid": "96a6dd0c-aa3c-42d2-803c-54a2630bfd1c",
        "trusted": true,
        "execution": {
          "iopub.status.busy": "2025-03-31T02:04:39.59486Z",
          "iopub.execute_input": "2025-03-31T02:04:39.595167Z",
          "iopub.status.idle": "2025-03-31T02:05:01.777258Z",
          "shell.execute_reply.started": "2025-03-31T02:04:39.595137Z",
          "shell.execute_reply": "2025-03-31T02:05:01.776409Z"
        },
        "jupyter": {
          "outputs_hidden": false
        },
        "id": "9aHKzUtdFtc_"
      },
      "outputs": [],
      "execution_count": null
    },
    {
      "cell_type": "markdown",
      "source": [
        "## Model Evaluation"
      ],
      "metadata": {
        "_uuid": "37081af7-00a3-470a-8e78-650dfae7f738",
        "_cell_guid": "17c9ec29-30ad-42a4-8e06-e9f2657de8c9",
        "trusted": true,
        "collapsed": false,
        "jupyter": {
          "outputs_hidden": false
        },
        "id": "wK2WfWknFtdA"
      }
    },
    {
      "cell_type": "code",
      "source": [
        "# Predictions\n",
        "y_pred_nn = (model.predict(X_test) > 0.5).astype(\"int32\").flatten()\n",
        "y_prob_nn = model.predict(X_test).flatten()\n",
        "\n",
        "# Metrics\n",
        "print(\"Confusion Matrix:\\n\", confusion_matrix(y_test, y_pred_nn))\n",
        "print(\"\\nClassification Report:\\n\", classification_report(y_test, y_pred_nn))\n",
        "print(\"\\nROC AUC Score:\", roc_auc_score(y_test, y_prob_nn))"
      ],
      "metadata": {
        "_uuid": "e38b86cb-ce6f-4252-9f14-6271fde5b818",
        "_cell_guid": "4093da41-5c7d-40e0-9b85-853ceabea1b4",
        "trusted": true,
        "execution": {
          "iopub.status.busy": "2025-03-31T02:05:01.778429Z",
          "iopub.execute_input": "2025-03-31T02:05:01.778807Z",
          "iopub.status.idle": "2025-03-31T02:05:02.389349Z",
          "shell.execute_reply.started": "2025-03-31T02:05:01.778779Z",
          "shell.execute_reply": "2025-03-31T02:05:02.388212Z"
        },
        "jupyter": {
          "outputs_hidden": false
        },
        "id": "xWpSpgKSFtdC"
      },
      "outputs": [],
      "execution_count": null
    },
    {
      "cell_type": "code",
      "source": [
        "# Compute false positive rate, true positive rate, and thresholds\n",
        "fpr, tpr, thresholds = roc_curve(y_test, y_prob_nn)\n",
        "\n",
        "# Compute AUC\n",
        "roc_auc = auc(fpr, tpr)\n",
        "\n",
        "# Plot\n",
        "plt.figure(figsize=(8, 6))\n",
        "plt.plot(fpr, tpr, color='darkorange', lw=2,\n",
        "         label=f'ROC curve (AUC = {roc_auc:.4f})')\n",
        "plt.plot([0, 1], [0, 1], color='navy', lw=2, linestyle='--')\n",
        "plt.xlim([-0.02, 1.0])\n",
        "plt.ylim([0.0, 1.02])\n",
        "plt.xlabel('False Positive Rate')\n",
        "plt.ylabel('True Positive Rate')\n",
        "plt.title('Receiver Operating Characteristic (ROC) Curve — Neural Network')\n",
        "plt.legend(loc=\"lower right\")\n",
        "plt.grid(alpha=0.3)\n",
        "plt.show()"
      ],
      "metadata": {
        "_uuid": "90edb640-4565-4416-82ac-dee1cdb9a88e",
        "_cell_guid": "062b8a11-bdcc-4f44-990f-7daf15c74e7e",
        "trusted": true,
        "execution": {
          "iopub.status.busy": "2025-03-31T02:18:46.038705Z",
          "iopub.execute_input": "2025-03-31T02:18:46.039031Z",
          "iopub.status.idle": "2025-03-31T02:18:46.267552Z",
          "shell.execute_reply.started": "2025-03-31T02:18:46.039007Z",
          "shell.execute_reply": "2025-03-31T02:18:46.26655Z"
        },
        "jupyter": {
          "outputs_hidden": false
        },
        "id": "YApx-pRVFtdC"
      },
      "outputs": [],
      "execution_count": null
    },
    {
      "cell_type": "code",
      "source": [
        "# Plot accuracy and loss curves\n",
        "plt.figure(figsize=(12, 5))\n",
        "\n",
        "plt.subplot(1, 2, 1)\n",
        "plt.plot(history.history['accuracy'], label='Train Acc')\n",
        "plt.plot(history.history['val_accuracy'], label='Val Acc')\n",
        "plt.title('Model Accuracy')\n",
        "plt.xlabel('Epochs')\n",
        "plt.ylabel('Accuracy')\n",
        "plt.legend()\n",
        "\n",
        "plt.subplot(1, 2, 2)\n",
        "plt.plot(history.history['loss'], label='Train Loss')\n",
        "plt.plot(history.history['val_loss'], label='Val Loss')\n",
        "plt.title('Model Loss')\n",
        "plt.xlabel('Epochs')\n",
        "plt.ylabel('Loss')\n",
        "plt.legend()\n",
        "\n",
        "plt.tight_layout()\n",
        "plt.show()"
      ],
      "metadata": {
        "_uuid": "cc907540-e4eb-485b-9009-782ff1f52043",
        "_cell_guid": "6277f484-2f53-4de6-a567-7e9bba766335",
        "trusted": true,
        "execution": {
          "iopub.status.busy": "2025-03-31T02:05:02.390456Z",
          "iopub.execute_input": "2025-03-31T02:05:02.390863Z",
          "iopub.status.idle": "2025-03-31T02:05:02.921773Z",
          "shell.execute_reply.started": "2025-03-31T02:05:02.390825Z",
          "shell.execute_reply": "2025-03-31T02:05:02.920639Z"
        },
        "jupyter": {
          "outputs_hidden": false
        },
        "id": "lrm3l6pRFtdD"
      },
      "outputs": [],
      "execution_count": null
    },
    {
      "cell_type": "markdown",
      "source": [
        "No signs of overfitting as accuracy increases while loss is decreasing, which is what we want. We can further improve the model to further minimize loss, but very satisfied with results."
      ],
      "metadata": {
        "_uuid": "d7acefeb-5a39-424b-af59-3a583d3384d6",
        "_cell_guid": "6b5ad812-0861-4408-bb3f-7075fcd76666",
        "trusted": true,
        "collapsed": false,
        "jupyter": {
          "outputs_hidden": false
        },
        "id": "Os_uJSpXFtdD"
      }
    },
    {
      "cell_type": "markdown",
      "source": [
        "## Explainable AI (XAI) for Medical Interpretability\n",
        "\n",
        "Interpretability in medical AI systems, is critical in providing confidence in the model's ability to generalize the dataset. This should provide information of why a model reached a particular decision.\n",
        "\n",
        "Next, we'll use SHAP (SHapley Additive exPlanations) to offer insights as to how gene expression levels contribute to predictions."
      ],
      "metadata": {
        "_uuid": "1dceba9d-f1de-4737-be52-4d47f4866f8d",
        "_cell_guid": "49b003df-de95-4d1c-b6c7-c7d3386b0df7",
        "trusted": true,
        "collapsed": false,
        "jupyter": {
          "outputs_hidden": false
        },
        "id": "9ePL64MPFtdD"
      }
    },
    {
      "cell_type": "code",
      "source": [
        "# TreeExplainer\n",
        "explainer_rf = shap.TreeExplainer(rf)\n",
        "shap_values_rf = explainer_rf.shap_values(X_test)\n",
        "\n",
        "\n",
        "shap.summary_plot(shap_values_rf, features=X_test, feature_names=['Gene One', 'Gene Two'])"
      ],
      "metadata": {
        "_uuid": "c2d4cd0d-76bb-4f8c-80ee-954760166a85",
        "_cell_guid": "9d6d61ab-beb8-4fe5-b187-cb7510484b0c",
        "trusted": true,
        "execution": {
          "iopub.status.busy": "2025-03-31T02:05:02.922696Z",
          "iopub.execute_input": "2025-03-31T02:05:02.92296Z",
          "iopub.status.idle": "2025-03-31T02:05:04.248025Z",
          "shell.execute_reply.started": "2025-03-31T02:05:02.922939Z",
          "shell.execute_reply": "2025-03-31T02:05:04.247187Z"
        },
        "jupyter": {
          "outputs_hidden": false
        },
        "id": "cLVrUonNFtdE"
      },
      "outputs": [],
      "execution_count": null
    },
    {
      "cell_type": "markdown",
      "source": [
        "The summary plot shows the magnitude and direction of each gene's contribution. Red points indicate higher values of gene expression; blue points indicate lower values.\n",
        "\n",
        "Positive SHAP values mean the gene pushes predictions towards cancer presence, while negative values push towards cancer absence. If Gene One consistently shows positive SHAP values, higher expression levels increase cancer risk predictions."
      ],
      "metadata": {
        "_uuid": "21fab070-0301-4b43-beec-9e9984df2d55",
        "_cell_guid": "e5c4d02a-9ed1-4aed-99f3-4b188dd342af",
        "trusted": true,
        "collapsed": false,
        "jupyter": {
          "outputs_hidden": false
        },
        "id": "hTEk8m81FtdE"
      }
    },
    {
      "cell_type": "code",
      "source": [
        "# SHAP generates values for each class in binary classification:\n",
        "#   - shap_values_rf[0]: corresponds to the negative class (Cancer Absent)\n",
        "#   - shap_values_rf[1]: corresponds to the positive class (Cancer Present)\n",
        "\n",
        "explanation = shap.Explanation(\n",
        "    values=shap_values_rf[1],\n",
        "    base_values=explainer_rf.expected_value[1],\n",
        "    data=X_test,\n",
        "    feature_names=['Gene One', 'Gene Two']\n",
        ")\n",
        "\n",
        "# Display the chart\n",
        "shap.plots.bar(explanation)"
      ],
      "metadata": {
        "_uuid": "2bf68538-2d91-44f0-9eeb-0f948c1cbe17",
        "_cell_guid": "26ddf2ea-e159-4b73-8bf0-fe886b1e5bca",
        "trusted": true,
        "execution": {
          "iopub.status.busy": "2025-03-31T02:05:04.248872Z",
          "iopub.execute_input": "2025-03-31T02:05:04.249185Z",
          "iopub.status.idle": "2025-03-31T02:05:04.384106Z",
          "shell.execute_reply.started": "2025-03-31T02:05:04.249152Z",
          "shell.execute_reply": "2025-03-31T02:05:04.383245Z"
        },
        "jupyter": {
          "outputs_hidden": false
        },
        "id": "XqGlI2STFtdE"
      },
      "outputs": [],
      "execution_count": null
    },
    {
      "cell_type": "markdown",
      "source": [
        "This bar chart ranks features by their average absolute impact on predictions,  providing a clear view of global importance across all predictions."
      ],
      "metadata": {
        "_uuid": "b56b5d5d-5be3-46eb-930e-4ddd333d998a",
        "_cell_guid": "06cb96eb-b01f-40ee-b650-d2e98b7b641c",
        "trusted": true,
        "collapsed": false,
        "jupyter": {
          "outputs_hidden": false
        },
        "id": "VyMadHbqFtdF"
      }
    },
    {
      "cell_type": "markdown",
      "source": [
        "## Interpretation with KernelExplainer\n",
        "\n",
        "For tree-based models (like Random Forests), we use SHAP’s efficient TreeExplainer, whereas for complex or deep learning models (Neural Networks), we must use the slower, general-purpose KernelExplainer.\n",
        "\n",
        "KernelExplainer is model-agnostic and works by perturbing features to measure how these changes impact predictions. This helps understand why the neural network made certain predictions."
      ],
      "metadata": {
        "_uuid": "62b539f2-0a82-4ccf-8506-eeca0b18e5ef",
        "_cell_guid": "c20ea80f-7683-40ad-b469-5c740d9f06ff",
        "trusted": true,
        "collapsed": false,
        "jupyter": {
          "outputs_hidden": false
        },
        "id": "47N12y4tFtdF"
      }
    },
    {
      "cell_type": "code",
      "source": [
        "# Subset for KernelExplainer\n",
        "X_sample = X_test[:100]\n",
        "\n",
        "# Background dataset for SHAP\n",
        "background = X_train[np.random.choice(X_train.shape[0], 100, replace=False)]\n",
        "\n",
        "# Create KernelExplainer\n",
        "explainer_nn = shap.KernelExplainer(model.predict, background)\n",
        "shap_values_nn = explainer_nn.shap_values(X_sample, nsamples=100)"
      ],
      "metadata": {
        "_uuid": "c308261c-5009-4057-914e-2fb2af52c02a",
        "_cell_guid": "c119cd61-4e92-484c-b068-029216469fb5",
        "trusted": true,
        "execution": {
          "iopub.status.busy": "2025-03-31T02:05:04.385013Z",
          "iopub.execute_input": "2025-03-31T02:05:04.385348Z",
          "iopub.status.idle": "2025-03-31T02:05:19.812058Z",
          "shell.execute_reply.started": "2025-03-31T02:05:04.385323Z",
          "shell.execute_reply": "2025-03-31T02:05:19.811138Z"
        },
        "jupyter": {
          "outputs_hidden": false
        },
        "id": "Rqh631exFtdF"
      },
      "outputs": [],
      "execution_count": null
    },
    {
      "cell_type": "markdown",
      "source": [
        " **SHAP** Summary Plot – Neural Network"
      ],
      "metadata": {
        "_uuid": "af541412-f470-457a-9645-ad2696d67c5d",
        "_cell_guid": "bb1665ad-80c6-4368-a5b6-186ab26c81e4",
        "trusted": true,
        "collapsed": false,
        "jupyter": {
          "outputs_hidden": false
        },
        "id": "pp_tOc-EFtdF"
      }
    },
    {
      "cell_type": "code",
      "source": [
        "# For binary classification, KernelExplainer returns one array:\n",
        "shap.summary_plot(shap_values_nn, features=X_sample, feature_names=['Gene One', 'Gene Two'])"
      ],
      "metadata": {
        "_uuid": "b90403ff-e1d5-4e9b-9227-58215ba97c6a",
        "_cell_guid": "c5561317-4ab9-47e8-9600-3f1e1d641161",
        "trusted": true,
        "execution": {
          "iopub.status.busy": "2025-03-31T02:05:19.813413Z",
          "iopub.execute_input": "2025-03-31T02:05:19.813808Z",
          "iopub.status.idle": "2025-03-31T02:05:19.985701Z",
          "shell.execute_reply.started": "2025-03-31T02:05:19.813769Z",
          "shell.execute_reply": "2025-03-31T02:05:19.984761Z"
        },
        "jupyter": {
          "outputs_hidden": false
        },
        "id": "rD-OCJ0wFtdG"
      },
      "outputs": [],
      "execution_count": null
    },
    {
      "cell_type": "markdown",
      "source": [
        "## Model Comparison and Integrated Interpretation\n",
        "With predictive models and SHAP-based explainability complete, the focus shifts to comparing model behaviors, in which we may ask the following questions:\n",
        "\n",
        "- Are both models using the same features? (This tells us if feature importance is robust across different algorithms.)\n",
        "\n",
        "- Is there consistency in feature importance? (Stable importance rankings mean stronger biological signals.)\n",
        "\n",
        "- Do certain genes only matter for specific subsets of patients? (This can guide personalized treatments and subgroup identification.)\n",
        "\n",
        "\n",
        "---\n",
        "\n",
        "## Semantic Analysis of Gene Interactions Using Graph-Based Modeling\n",
        "As the goal shifts from simple prediction toward understanding the underlying biological mechanisms, graph-based approaches become essential. Genomic data often reflects complex relationships, genes interact in regulatory networks, signaling pathways, or co-expression clusters that cannot be captured through simple tabular modeling.\n",
        "\n",
        "To uncover these relationships, the dataset is represented as a semantic graph where:\n",
        "\n",
        "- Nodes represent genes or patient states.\n",
        "\n",
        "- Edges encode statistical or functional associations.\n",
        "\n",
        "\n",
        "\n",
        "This lays the foundation for **biological pathway analysis, semantic similarity,** and **causal inference**."
      ],
      "metadata": {
        "_uuid": "13a97bce-2333-44c5-bed6-531556a4e759",
        "_cell_guid": "486b0fb2-4af5-4343-9e2f-9056b6a81a1b",
        "trusted": true,
        "collapsed": false,
        "jupyter": {
          "outputs_hidden": false
        },
        "id": "ZN1Uq0FHFtdG"
      }
    },
    {
      "cell_type": "markdown",
      "source": [
        "## Graph-Based Correlation\n",
        "\n",
        "Genes typically don't operate alone; they work together, forming complex relationships within biological networks. A correlation graph helps visualize **how closely gene expressions are related** across different samples.\n",
        "\n",
        "Strong connections might indicate genes operating in similar biological pathways or regulatory networks."
      ],
      "metadata": {
        "_uuid": "00ed20fc-89d6-4e77-a40d-7e86526f51d6",
        "_cell_guid": "18731cd1-ad08-4af5-80db-aaf61e64317d",
        "trusted": true,
        "collapsed": false,
        "jupyter": {
          "outputs_hidden": false
        },
        "id": "HXjHUDSJFtdG"
      }
    },
    {
      "cell_type": "code",
      "source": [
        "# Compute correlation matrix\n",
        "gene_corr = df[['Gene One', 'Gene Two']].corr()\n",
        "\n",
        "# Initialized the graph\n",
        "G = nx.Graph()\n",
        "\n",
        "# Add nodes\n",
        "for gene in gene_corr.columns:\n",
        "    G.add_node(gene)\n",
        "\n",
        "# Add edges for correlations above a threshold\n",
        "threshold = 0.2\n",
        "for i in gene_corr.columns:\n",
        "    for j in gene_corr.columns:\n",
        "        if i != j and abs(gene_corr.loc[i, j]) > threshold:\n",
        "            G.add_edge(i, j, weight=gene_corr.loc[i, j])"
      ],
      "metadata": {
        "_uuid": "5297aae6-d1c3-4cb5-ab3f-b52f67145442",
        "_cell_guid": "c835d91f-67e9-4058-afe3-cf77b2383379",
        "trusted": true,
        "execution": {
          "iopub.status.busy": "2025-03-31T02:05:19.986526Z",
          "iopub.execute_input": "2025-03-31T02:05:19.986886Z",
          "iopub.status.idle": "2025-03-31T02:05:19.994009Z",
          "shell.execute_reply.started": "2025-03-31T02:05:19.986861Z",
          "shell.execute_reply": "2025-03-31T02:05:19.993249Z"
        },
        "jupyter": {
          "outputs_hidden": false
        },
        "id": "SEWv7cQgFtdG"
      },
      "outputs": [],
      "execution_count": null
    },
    {
      "cell_type": "markdown",
      "source": [
        "### Visualizing the Correlation Graph:\n",
        "\n",
        "Edges represent significant correlations between genes, and their colors indicate positive (red) or negative (blue) correlations. Nodes closer together are typically more strongly correlated."
      ],
      "metadata": {
        "_uuid": "915832c3-eaf5-489a-969c-9495208fd206",
        "_cell_guid": "9cb01184-63fe-4183-8c1b-377f061ed998",
        "trusted": true,
        "collapsed": false,
        "jupyter": {
          "outputs_hidden": false
        },
        "id": "_ghte4VCFtdH"
      }
    },
    {
      "cell_type": "code",
      "source": [
        "# Generate positions\n",
        "pos = nx.spring_layout(G, seed=42)\n",
        "\n",
        "# Plot nodes\n",
        "plt.figure(figsize=(6, 4))\n",
        "nx.draw_networkx_nodes(G, pos, node_color='skyblue', node_size=1000)\n",
        "\n",
        "# Add labels to nodes\n",
        "nx.draw_networkx_labels(G, pos, font_size=12)\n",
        "\n",
        "# Plot edges with colors\n",
        "edges = nx.draw_networkx_edges(\n",
        "    G, pos, width=2,\n",
        "    edge_color=[G[u][v]['weight'] for u, v in G.edges()],\n",
        "    edge_cmap=plt.cm.coolwarm,\n",
        "    edge_vmin=-1, edge_vmax=1\n",
        ")\n",
        "\n",
        "# Add colorbar\n",
        "plt.colorbar(edges, label='Correlation Strength')\n",
        "\n",
        "plt.title(\"Gene Correlation Graph\")\n",
        "plt.axis('off')\n",
        "plt.show()"
      ],
      "metadata": {
        "_uuid": "ff805d58-45ab-4faf-a166-44daaeafb3b2",
        "_cell_guid": "79e88227-a642-408d-b7d3-f9f189521327",
        "trusted": true,
        "execution": {
          "iopub.status.busy": "2025-03-31T02:05:19.99481Z",
          "iopub.execute_input": "2025-03-31T02:05:19.99508Z",
          "iopub.status.idle": "2025-03-31T02:05:20.255055Z",
          "shell.execute_reply.started": "2025-03-31T02:05:19.995059Z",
          "shell.execute_reply": "2025-03-31T02:05:20.254119Z"
        },
        "jupyter": {
          "outputs_hidden": false
        },
        "id": "OCRpnejVFtdH"
      },
      "outputs": [],
      "execution_count": null
    },
    {
      "cell_type": "markdown",
      "source": [
        "## Causal Inference\n",
        "\n",
        "Correlation helps identify relationships but cannot tell us **which gene causes changes in another or impacts cancer risk directly**. To address this, causal inference methods attempt to answer crucial questions such as:\n",
        "\n",
        "- *If we artificially reduce Gene One expression, would cancer risk decrease?*\n",
        "- *Does Gene Two expression directly lead to cancer, or does cancer cause the gene expression change?*\n",
        "- *Can gene interventions lead to personalized treatments?*\n",
        "\n",
        "Here we use the **PC Algorithm**—a statistical method to infer **directed causal relationships** from observational data."
      ],
      "metadata": {
        "_uuid": "6fd0032f-e6dc-4c04-98d8-c7fef21e90da",
        "_cell_guid": "27c16832-a1c6-49ad-8923-59e641b0fdec",
        "trusted": true,
        "collapsed": false,
        "jupyter": {
          "outputs_hidden": false
        },
        "id": "BqMF58RrFtdH"
      }
    },
    {
      "cell_type": "code",
      "source": [
        "# Select features for causal inference\n",
        "X_causal = df[['Gene One', 'Gene Two', 'Cancer Present']].to_numpy()\n",
        "\n",
        "# Apply PC algorithm\n",
        "pc_result = pc(X_causal, alpha=.10, indep_test_func=fisherz)"
      ],
      "metadata": {
        "_uuid": "9d454acb-2c9f-4098-a502-0f077a81053f",
        "_cell_guid": "60b1345a-a293-47b2-adcc-d6aa97d46a06",
        "trusted": true,
        "execution": {
          "iopub.status.busy": "2025-03-31T02:05:20.256068Z",
          "iopub.execute_input": "2025-03-31T02:05:20.25643Z",
          "iopub.status.idle": "2025-03-31T02:05:20.29425Z",
          "shell.execute_reply.started": "2025-03-31T02:05:20.256395Z",
          "shell.execute_reply": "2025-03-31T02:05:20.293239Z"
        },
        "jupyter": {
          "outputs_hidden": false
        },
        "id": "YyxO74paFtdH"
      },
      "outputs": [],
      "execution_count": null
    },
    {
      "cell_type": "markdown",
      "source": [
        "A result with no edges means no statistically significant causal relationships were detected at the chosen significance level.\n",
        "\n",
        "This does not imply no biological causality—only that stronger statistical evidence or larger datasets might be needed."
      ],
      "metadata": {
        "_uuid": "087bc568-cf14-4849-9c6f-9ca202a10a71",
        "_cell_guid": "c7249e7d-a49e-4c8c-b9a4-7095dbf3f4b3",
        "trusted": true,
        "collapsed": false,
        "jupyter": {
          "outputs_hidden": false
        },
        "id": "VHOqXwe_FtdI"
      }
    },
    {
      "cell_type": "code",
      "source": [
        "from causallearn.graph.Edge import Endpoint\n",
        "\n",
        "# Extract causal graph result\n",
        "causal_graph = pc_result.G\n",
        "\n",
        "# Initialize directed graph\n",
        "G_nx = nx.DiGraph()\n",
        "\n",
        "# Add nodes with clear labels\n",
        "for node in causal_graph.get_nodes():\n",
        "    node_name = str(node.get_name())\n",
        "    G_nx.add_node(node_name)\n",
        "\n",
        "# Add directed edges based on causal discovery results\n",
        "for edge in causal_graph.get_graph_edges():\n",
        "    src = str(edge.get_node1().get_name())\n",
        "    tgt = str(edge.get_node2().get_name())\n",
        "    ep1 = edge.get_endpoint1()\n",
        "    ep2 = edge.get_endpoint2()\n",
        "\n",
        "    # Check edge direction\n",
        "    if ep1 == Endpoint.TAIL and ep2 == Endpoint.ARROW:\n",
        "        G_nx.add_edge(src, tgt)\n",
        "    elif ep1 == Endpoint.ARROW and ep2 == Endpoint.TAIL:\n",
        "        G_nx.add_edge(tgt, src)"
      ],
      "metadata": {
        "_uuid": "ae77b0f0-200f-40b5-971d-2a4d87f81300",
        "_cell_guid": "2fde75ac-7cf4-426e-bd2d-c1d598d8b769",
        "trusted": true,
        "execution": {
          "iopub.status.busy": "2025-03-31T02:05:20.295172Z",
          "iopub.execute_input": "2025-03-31T02:05:20.295477Z",
          "iopub.status.idle": "2025-03-31T02:05:20.302034Z",
          "shell.execute_reply.started": "2025-03-31T02:05:20.295443Z",
          "shell.execute_reply": "2025-03-31T02:05:20.300912Z"
        },
        "jupyter": {
          "outputs_hidden": false
        },
        "id": "VQCraNeqFtdI"
      },
      "outputs": [],
      "execution_count": null
    },
    {
      "cell_type": "code",
      "source": [
        "# Get feature names in the order used for causal inference\n",
        "features = ['Gene One', 'Gene Two', 'Cancer Present']\n",
        "\n",
        "# Build a dynamic mapping from causallearn's node names to readable labels\n",
        "label_map = {f'X{i}': features[i] for i in range(len(features))}"
      ],
      "metadata": {
        "_uuid": "3592298d-8117-4444-a7d7-7c003f04222e",
        "_cell_guid": "6c572142-3fd4-4256-b72b-846ecd34024e",
        "trusted": true,
        "execution": {
          "iopub.status.busy": "2025-03-31T02:10:01.80067Z",
          "iopub.execute_input": "2025-03-31T02:10:01.801029Z",
          "iopub.status.idle": "2025-03-31T02:10:01.805781Z",
          "shell.execute_reply.started": "2025-03-31T02:10:01.801004Z",
          "shell.execute_reply": "2025-03-31T02:10:01.804808Z"
        },
        "jupyter": {
          "outputs_hidden": false
        },
        "id": "Xf0nrJZcFtdI"
      },
      "outputs": [],
      "execution_count": null
    },
    {
      "cell_type": "code",
      "source": [
        "plt.figure(figsize=(6, 4))\n",
        "pos = nx.spring_layout(G_nx, seed=42)\n",
        "\n",
        "nx.draw(\n",
        "    G_nx, pos,\n",
        "    labels={node: label_map.get(node, node) for node in G_nx.nodes()},\n",
        "    with_labels=True,\n",
        "    node_size=1200, node_color=\"lightblue\",\n",
        "    font_size=10, font_weight='bold', arrows=True\n",
        ")\n",
        "\n",
        "plt.title(\"Causal Graph (PC Algorithm)\")\n",
        "plt.axis('off')\n",
        "plt.show()"
      ],
      "metadata": {
        "_uuid": "404e1490-43f0-4868-8b86-51132403831e",
        "_cell_guid": "e66e7f1c-7503-40dd-916b-eeb1d429edac",
        "trusted": true,
        "execution": {
          "iopub.status.busy": "2025-03-31T02:10:03.575075Z",
          "iopub.execute_input": "2025-03-31T02:10:03.575467Z",
          "iopub.status.idle": "2025-03-31T02:10:03.743719Z",
          "shell.execute_reply.started": "2025-03-31T02:10:03.575431Z",
          "shell.execute_reply": "2025-03-31T02:10:03.742716Z"
        },
        "jupyter": {
          "outputs_hidden": false
        },
        "id": "suSB02OoFtdI"
      },
      "outputs": [],
      "execution_count": null
    },
    {
      "cell_type": "markdown",
      "source": [
        "This result demonstrates that the algorithm did not find any statistically significant conditional dependencies among the variables in our dataset, under the threshold (alpha) and assumptions provided.\n",
        "\n",
        "That does not mean there's no real biological relationship, just that with this method, we couldn't find statistically valid directed dependencies.\n",
        "\n",
        "---\n",
        "## Future Work\n",
        "To expand causal modeling:\n",
        "\n",
        "- Use Bayesian Networks for probabilistic causal inference.\n",
        "\n",
        "- Introduce counterfactual analysis.\n",
        "\n",
        "- Integrate do-calculus for intervention simulation.\n",
        "\n",
        "- Combine causal graphs with SHAP to build counterfactual explanations.\n",
        "\n",
        "---"
      ],
      "metadata": {
        "_uuid": "a8f25ec3-c95e-4d81-a54d-6ffbba16fb4d",
        "_cell_guid": "8f5840cb-5e55-4b4e-beba-ce1418c92439",
        "trusted": true,
        "collapsed": false,
        "jupyter": {
          "outputs_hidden": false
        },
        "id": "7OakIxo0FtdJ"
      }
    }
  ]
}